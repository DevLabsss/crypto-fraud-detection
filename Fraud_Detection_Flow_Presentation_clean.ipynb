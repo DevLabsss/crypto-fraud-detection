{
 "cells": [
  {
   "cell_type": "markdown",
   "id": "c9ddf544",
   "metadata": {},
   "source": [
    "\n",
    "# ₿ Fraud Detection on Cryptocurrency\n",
    "Alur: **tema crypto → algoritma → dataset → variabel → EDA → split → training Naive Bayes → hasil**.\n"
   ]
  },
  {
   "cell_type": "markdown",
   "id": "1e428975",
   "metadata": {},
   "source": [
    "\n",
    "## 1) Kenapa ambil tema tersebut?\n",
    "Transaksi digital makin umum dan rawan **fraud**. Studi kasus *crypto* dipilih untuk mensimulasikan penerapan ML pada keamanan transaksi.\n"
   ]
  },
  {
   "cell_type": "markdown",
   "id": "8aa02ef5",
   "metadata": {},
   "source": [
    "\n",
    "## 2) Kenapa pilih Naive Bayes?\n",
    "- **Sederhana** & **cepat** → cocok baseline\n",
    "- Klasifikasi biner (normal vs fraud)\n",
    "- Pembanding sebelum model kompleks\n"
   ]
  },
  {
   "cell_type": "markdown",
   "id": "23175241",
   "metadata": {},
   "source": [
    "\n",
    "## 3) Dataset dari mana?\n",
    "- **Synthetic dataset** (dibuat sendiri) karena data asli umumnya privat.\n",
    "- Ukuran ± **5.000 baris** agar cukup untuk latihan tetapi tetap ringan.\n"
   ]
  },
  {
   "cell_type": "markdown",
   "id": "b15a79bb",
   "metadata": {},
   "source": [
    "### Import & Setup"
   ]
  },
  {
   "cell_type": "code",
   "execution_count": 1,
   "id": "b1b8ed0c",
   "metadata": {},
   "outputs": [],
   "source": [
    "\n",
    "# Jika environment bersih, install paket (opsional):\n",
    "# !pip install numpy pandas scikit-learn matplotlib seaborn\n",
    "\n",
    "import numpy as np\n",
    "import pandas as pd\n",
    "import matplotlib.pyplot as plt\n",
    "import seaborn as sns\n",
    "\n",
    "from pathlib import Path\n",
    "from sklearn.model_selection import train_test_split, StratifiedKFold, cross_val_score\n",
    "from sklearn.naive_bayes import GaussianNB\n",
    "from sklearn.metrics import (accuracy_score, precision_score, recall_score,\n",
    "                             f1_score, classification_report, confusion_matrix,\n",
    "                             RocCurveDisplay, roc_auc_score)\n",
    "\n",
    "DATA_DIR = Path(\"data\"); DATA_DIR.mkdir(exist_ok=True, parents=True)\n",
    "OUT_DIR = Path(\"outputs_basic\"); OUT_DIR.mkdir(exist_ok=True, parents=True)\n",
    "\n",
    "RANDOM_STATE = 42\n",
    "np.random.seed(RANDOM_STATE)\n"
   ]
  },
  {
   "cell_type": "markdown",
   "id": "bd73acc7",
   "metadata": {},
   "source": [
    "### Generate / Load Dataset"
   ]
  },
  {
   "cell_type": "code",
   "execution_count": 2,
   "id": "a5ea3e8d",
   "metadata": {},
   "outputs": [
    {
     "name": "stdout",
     "output_type": "stream",
     "text": [
      "Loaded: data/transactions.csv\n"
     ]
    },
    {
     "data": {
      "text/html": [
       "<div>\n",
       "<style scoped>\n",
       "    .dataframe tbody tr th:only-of-type {\n",
       "        vertical-align: middle;\n",
       "    }\n",
       "\n",
       "    .dataframe tbody tr th {\n",
       "        vertical-align: top;\n",
       "    }\n",
       "\n",
       "    .dataframe thead th {\n",
       "        text-align: right;\n",
       "    }\n",
       "</style>\n",
       "<table border=\"1\" class=\"dataframe\">\n",
       "  <thead>\n",
       "    <tr style=\"text-align: right;\">\n",
       "      <th></th>\n",
       "      <th>amount</th>\n",
       "      <th>transaction_freq_24h</th>\n",
       "      <th>account_age_days</th>\n",
       "      <th>is_weekend</th>\n",
       "      <th>is_fraud</th>\n",
       "    </tr>\n",
       "  </thead>\n",
       "  <tbody>\n",
       "    <tr>\n",
       "      <th>0</th>\n",
       "      <td>272.41</td>\n",
       "      <td>3</td>\n",
       "      <td>540</td>\n",
       "      <td>1</td>\n",
       "      <td>0</td>\n",
       "    </tr>\n",
       "    <tr>\n",
       "      <th>1</th>\n",
       "      <td>70.99</td>\n",
       "      <td>0</td>\n",
       "      <td>646</td>\n",
       "      <td>0</td>\n",
       "      <td>0</td>\n",
       "    </tr>\n",
       "    <tr>\n",
       "      <th>2</th>\n",
       "      <td>425.40</td>\n",
       "      <td>4</td>\n",
       "      <td>823</td>\n",
       "      <td>1</td>\n",
       "      <td>0</td>\n",
       "    </tr>\n",
       "    <tr>\n",
       "      <th>3</th>\n",
       "      <td>514.48</td>\n",
       "      <td>1</td>\n",
       "      <td>575</td>\n",
       "      <td>1</td>\n",
       "      <td>0</td>\n",
       "    </tr>\n",
       "    <tr>\n",
       "      <th>4</th>\n",
       "      <td>28.55</td>\n",
       "      <td>3</td>\n",
       "      <td>642</td>\n",
       "      <td>1</td>\n",
       "      <td>0</td>\n",
       "    </tr>\n",
       "  </tbody>\n",
       "</table>\n",
       "</div>"
      ],
      "text/plain": [
       "   amount  transaction_freq_24h  account_age_days  is_weekend  is_fraud\n",
       "0  272.41                     3               540           1         0\n",
       "1   70.99                     0               646           0         0\n",
       "2  425.40                     4               823           1         0\n",
       "3  514.48                     1               575           1         0\n",
       "4   28.55                     3               642           1         0"
      ]
     },
     "execution_count": 2,
     "metadata": {},
     "output_type": "execute_result"
    }
   ],
   "source": [
    "\n",
    "csv_path = DATA_DIR / \"transactions.csv\"\n",
    "\n",
    "def generate_synthetic(n_rows=5000, fraud_ratio=0.08, random_state=RANDOM_STATE):\n",
    "    rng = np.random.default_rng(random_state)\n",
    "    amount = np.round(np.exp(rng.normal(3, 1.0, n_rows)) * 10, 2)\n",
    "    tx_freq = rng.poisson(lam=3, size=n_rows)\n",
    "    account_age = rng.integers(low=1, high=365*3, size=n_rows)\n",
    "    is_weekend = rng.integers(low=0, high=2, size=n_rows)\n",
    "\n",
    "    base = np.full(n_rows, fraud_ratio, dtype=float)\n",
    "    base += (amount > np.percentile(amount, 85)) * 0.06\n",
    "    base += (account_age < 30) * 0.05\n",
    "    base += (tx_freq > 6) * 0.04\n",
    "    base += (is_weekend == 1) * 0.02\n",
    "    base = np.clip(base, 0.01, 0.85)\n",
    "\n",
    "    is_fraud = rng.binomial(1, base)\n",
    "\n",
    "    return pd.DataFrame({\n",
    "        \"amount\": amount,\n",
    "        \"transaction_freq_24h\": tx_freq,\n",
    "        \"account_age_days\": account_age,\n",
    "        \"is_weekend\": is_weekend,\n",
    "        \"is_fraud\": is_fraud\n",
    "    })\n",
    "\n",
    "if csv_path.exists():\n",
    "    df = pd.read_csv(csv_path)\n",
    "    print(\"Loaded:\", csv_path)\n",
    "else:\n",
    "    df = generate_synthetic()\n",
    "    df.to_csv(csv_path, index=False)\n",
    "    print(\"Generated synthetic & saved to:\", csv_path)\n",
    "\n",
    "df.head()\n"
   ]
  },
  {
   "cell_type": "markdown",
   "id": "4f8916b0",
   "metadata": {},
   "source": [
    "\n",
    "## 4) Variabel pada dataset\n",
    "- `amount` — jumlah transaksi\n",
    "- `transaction_freq_24h` — frekuensi transaksi 24 jam\n",
    "- `account_age_days` — umur akun (hari)\n",
    "- `is_weekend` — 0/1 apakah weekend\n",
    "- `is_fraud` — label target (0 normal, 1 fraud)\n"
   ]
  },
  {
   "cell_type": "markdown",
   "id": "e5570b34",
   "metadata": {},
   "source": [
    "## 5) EDA (Exploratory Data Analysis)"
   ]
  },
  {
   "cell_type": "code",
   "execution_count": 3,
   "id": "5c65b1f0",
   "metadata": {},
   "outputs": [
    {
     "name": "stdout",
     "output_type": "stream",
     "text": [
      "Shape: (5000, 5)\n",
      "\n",
      "Class balance (ratio):\n",
      "is_fraud\n",
      "0    0.9026\n",
      "1    0.0974\n",
      "Name: ratio, dtype: float64\n"
     ]
    },
    {
     "data": {
      "text/html": [
       "<div>\n",
       "<style scoped>\n",
       "    .dataframe tbody tr th:only-of-type {\n",
       "        vertical-align: middle;\n",
       "    }\n",
       "\n",
       "    .dataframe tbody tr th {\n",
       "        vertical-align: top;\n",
       "    }\n",
       "\n",
       "    .dataframe thead th {\n",
       "        text-align: right;\n",
       "    }\n",
       "</style>\n",
       "<table border=\"1\" class=\"dataframe\">\n",
       "  <thead>\n",
       "    <tr style=\"text-align: right;\">\n",
       "      <th></th>\n",
       "      <th>amount</th>\n",
       "      <th>transaction_freq_24h</th>\n",
       "      <th>account_age_days</th>\n",
       "      <th>is_weekend</th>\n",
       "      <th>is_fraud</th>\n",
       "    </tr>\n",
       "  </thead>\n",
       "  <tbody>\n",
       "    <tr>\n",
       "      <th>count</th>\n",
       "      <td>5000.000000</td>\n",
       "      <td>5000.000000</td>\n",
       "      <td>5000.00000</td>\n",
       "      <td>5000.000000</td>\n",
       "      <td>5000.000000</td>\n",
       "    </tr>\n",
       "    <tr>\n",
       "      <th>mean</th>\n",
       "      <td>324.952904</td>\n",
       "      <td>3.010800</td>\n",
       "      <td>548.81260</td>\n",
       "      <td>0.496400</td>\n",
       "      <td>0.097400</td>\n",
       "    </tr>\n",
       "    <tr>\n",
       "      <th>std</th>\n",
       "      <td>420.948835</td>\n",
       "      <td>1.749084</td>\n",
       "      <td>312.92697</td>\n",
       "      <td>0.500037</td>\n",
       "      <td>0.296531</td>\n",
       "    </tr>\n",
       "    <tr>\n",
       "      <th>min</th>\n",
       "      <td>5.230000</td>\n",
       "      <td>0.000000</td>\n",
       "      <td>1.00000</td>\n",
       "      <td>0.000000</td>\n",
       "      <td>0.000000</td>\n",
       "    </tr>\n",
       "    <tr>\n",
       "      <th>25%</th>\n",
       "      <td>100.547500</td>\n",
       "      <td>2.000000</td>\n",
       "      <td>281.75000</td>\n",
       "      <td>0.000000</td>\n",
       "      <td>0.000000</td>\n",
       "    </tr>\n",
       "    <tr>\n",
       "      <th>50%</th>\n",
       "      <td>200.025000</td>\n",
       "      <td>3.000000</td>\n",
       "      <td>545.50000</td>\n",
       "      <td>0.000000</td>\n",
       "      <td>0.000000</td>\n",
       "    </tr>\n",
       "    <tr>\n",
       "      <th>75%</th>\n",
       "      <td>377.602500</td>\n",
       "      <td>4.000000</td>\n",
       "      <td>817.00000</td>\n",
       "      <td>1.000000</td>\n",
       "      <td>0.000000</td>\n",
       "    </tr>\n",
       "    <tr>\n",
       "      <th>max</th>\n",
       "      <td>6352.680000</td>\n",
       "      <td>11.000000</td>\n",
       "      <td>1094.00000</td>\n",
       "      <td>1.000000</td>\n",
       "      <td>1.000000</td>\n",
       "    </tr>\n",
       "  </tbody>\n",
       "</table>\n",
       "</div>"
      ],
      "text/plain": [
       "            amount  transaction_freq_24h  account_age_days   is_weekend  \\\n",
       "count  5000.000000           5000.000000        5000.00000  5000.000000   \n",
       "mean    324.952904              3.010800         548.81260     0.496400   \n",
       "std     420.948835              1.749084         312.92697     0.500037   \n",
       "min       5.230000              0.000000           1.00000     0.000000   \n",
       "25%     100.547500              2.000000         281.75000     0.000000   \n",
       "50%     200.025000              3.000000         545.50000     0.000000   \n",
       "75%     377.602500              4.000000         817.00000     1.000000   \n",
       "max    6352.680000             11.000000        1094.00000     1.000000   \n",
       "\n",
       "          is_fraud  \n",
       "count  5000.000000  \n",
       "mean      0.097400  \n",
       "std       0.296531  \n",
       "min       0.000000  \n",
       "25%       0.000000  \n",
       "50%       0.000000  \n",
       "75%       0.000000  \n",
       "max       1.000000  "
      ]
     },
     "metadata": {},
     "output_type": "display_data"
    },
    {
     "data": {
      "image/png": "[encoded data removed]",
      "text/plain": [
       "<Figure size 1000x400 with 2 Axes>"
      ]
     },
     "metadata": {},
     "output_type": "display_data"
    }
   ],
   "source": [
    "\n",
    "print(\"Shape:\", df.shape)\n",
    "print(\"\\nClass balance (ratio):\")\n",
    "print(df['is_fraud'].value_counts(normalize=True).rename('ratio'))\n",
    "\n",
    "display(df.describe())\n",
    "\n",
    "fig, axes = plt.subplots(1, 2, figsize=(10,4))\n",
    "sns.histplot(df['amount'], ax=axes[0])\n",
    "axes[0].set_title('Distribusi Amount')\n",
    "sns.countplot(x='is_fraud', data=df, ax=axes[1])\n",
    "axes[1].set_title('Class Count (0=Normal, 1=Fraud)')\n",
    "plt.tight_layout(); plt.show()\n"
   ]
  },
  {
   "cell_type": "markdown",
   "id": "7cadc56d",
   "metadata": {},
   "source": [
    "## 6) Split training/testing"
   ]
  },
  {
   "cell_type": "code",
   "execution_count": 4,
   "id": "521435fd",
   "metadata": {},
   "outputs": [
    {
     "name": "stdout",
     "output_type": "stream",
     "text": [
      "Train: (4000, 4)  | Test: (1000, 4)\n"
     ]
    }
   ],
   "source": [
    "\n",
    "X = df.drop(columns=['is_fraud'])\n",
    "y = df['is_fraud']\n",
    "\n",
    "X_train, X_test, y_train, y_test = train_test_split(\n",
    "    X, y, test_size=0.2, random_state=RANDOM_STATE, stratify=y\n",
    ")\n",
    "print(\"Train:\", X_train.shape, \" | Test:\", X_test.shape)\n"
   ]
  },
  {
   "cell_type": "markdown",
   "id": "b60e1594",
   "metadata": {},
   "source": [
    "## 7) Training — Gaussian Naive Bayes"
   ]
  },
  {
   "cell_type": "code",
   "execution_count": 6,
   "id": "03d82822",
   "metadata": {},
   "outputs": [
    {
     "name": "stdout",
     "output_type": "stream",
     "text": [
      "Model trained.\n"
     ]
    }
   ],
   "source": [
    "\n",
    "gnb = GaussianNB().fit(X_train, y_train)\n",
    "y_pred = gnb.predict(X_test)\n",
    "y_prob = gnb.predict_proba(X_test)[:,1]\n",
    "print(\"Model trained.\")\n"
   ]
  },
  {
   "cell_type": "markdown",
   "id": "3cc5e806",
   "metadata": {},
   "source": [
    "## 8) Hasil & Evaluasi"
   ]
  },
  {
   "cell_type": "code",
   "execution_count": 7,
   "id": "b71891c1",
   "metadata": {},
   "outputs": [
    {
     "name": "stdout",
     "output_type": "stream",
     "text": [
      "Accuracy : 0.8870\n",
      "Precision: 0.1364\n",
      "Recall   : 0.0309\n",
      "F1-score : 0.0504\n",
      "ROC-AUC  : 0.5359\n",
      "\n",
      "              precision    recall  f1-score   support\n",
      "\n",
      "           0     0.9039    0.9790    0.9399       903\n",
      "           1     0.1364    0.0309    0.0504        97\n",
      "\n",
      "    accuracy                         0.8870      1000\n",
      "   macro avg     0.5201    0.5049    0.4952      1000\n",
      "weighted avg     0.8294    0.8870    0.8536      1000\n",
      "\n"
     ]
    },
    {
     "data": {
      "image/png": "[encoded data removed]",
      "text/plain": [
       "<Figure size 400x400 with 1 Axes>"
      ]
     },
     "metadata": {},
     "output_type": "display_data"
    },
    {
     "data": {
      "image/png": "[encoded data removed]",
      "text/plain": [
       "<Figure size 500x400 with 1 Axes>"
      ]
     },
     "metadata": {},
     "output_type": "display_data"
    }
   ],
   "source": [
    "\n",
    "acc  = accuracy_score(y_test, y_pred)\n",
    "prec = precision_score(y_test, y_pred, zero_division=0)\n",
    "rec  = recall_score(y_test, y_pred, zero_division=0)\n",
    "f1   = f1_score(y_test, y_pred, zero_division=0)\n",
    "auc  = roc_auc_score(y_test, y_prob)\n",
    "\n",
    "print(f\"Accuracy : {acc:.4f}\")\n",
    "print(f\"Precision: {prec:.4f}\")\n",
    "print(f\"Recall   : {rec:.4f}\")\n",
    "print(f\"F1-score : {f1:.4f}\")\n",
    "print(f\"ROC-AUC  : {auc:.4f}\\n\")\n",
    "print(classification_report(y_test, y_pred, digits=4))\n",
    "\n",
    "# Confusion Matrix\n",
    "cm = confusion_matrix(y_test, y_pred)\n",
    "fig, ax = plt.subplots(figsize=(4,4))\n",
    "sns.heatmap(cm, annot=True, fmt='d', cbar=False, ax=ax)\n",
    "ax.set_title('Confusion Matrix — GaussianNB')\n",
    "ax.set_xlabel('Predicted'); ax.set_ylabel('True')\n",
    "plt.tight_layout(); plt.show()\n",
    "\n",
    "# ROC Curve\n",
    "fig, ax = plt.subplots(figsize=(5,4))\n",
    "RocCurveDisplay.from_predictions(y_test, y_prob, ax=ax)\n",
    "ax.set_title('ROC Curve — GaussianNB')\n",
    "plt.tight_layout(); plt.show()\n"
   ]
  },
  {
   "cell_type": "markdown",
   "id": "61fa36b9",
   "metadata": {},
   "source": [
    "\n",
    "## 9) Catatan & Next Step\n",
    "- Akurasi bisa tinggi karena kelas **tidak seimbang** → fokus tingkatkan **recall** fraud.\n",
    "- Coba balancing (SMOTE/undersampling), threshold tuning, atau model lain (LogReg, RF).\n"
   ]
  }
 ],
 "metadata": {
  "kernelspec": {
   "display_name": "Python (fraud-nb)",
   "language": "python",
   "name": "fraud-nb"
  },
  "language_info": {
   "codemirror_mode": {
    "name": "ipython",
    "version": 3
   },
   "file_extension": ".py",
   "mimetype": "text/x-python",
   "name": "python",
   "nbconvert_exporter": "python",
   "pygments_lexer": "ipython3",
   "version": "3.13.4"
  }
 },
 "nbformat": 4,
 "nbformat_minor": 5
}
