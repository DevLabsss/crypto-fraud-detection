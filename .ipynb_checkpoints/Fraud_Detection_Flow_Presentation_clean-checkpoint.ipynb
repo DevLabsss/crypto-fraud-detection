{
 "cells": [
  {
   "cell_type": "markdown",
   "id": "c9ddf544",
   "metadata": {},
   "source": [
    "\n",
    "# ₿ Fraud Detection on Cryptocurrency\n",
    "Alur: **tema crypto → algoritma → dataset → variabel → EDA → split → training Naive Bayes → hasil**.\n"
   ]
  },
  {
   "cell_type": "markdown",
   "id": "1e428975",
   "metadata": {},
   "source": [
    "\n",
    "## 1) Kenapa ambil tema tersebut?\n",
    "Transaksi digital makin umum dan rawan **fraud**. Studi kasus *crypto* dipilih untuk mensimulasikan penerapan ML pada keamanan transaksi.\n"
   ]
  },
  {
   "cell_type": "markdown",
   "id": "8aa02ef5",
   "metadata": {},
   "source": [
    "\n",
    "## 2) Kenapa pilih Naive Bayes?\n",
    "- **Sederhana** & **cepat** → cocok baseline\n",
    "- Klasifikasi biner (normal vs fraud)\n",
    "- Pembanding sebelum model kompleks\n"
   ]
  },
  {
   "cell_type": "markdown",
   "id": "23175241",
   "metadata": {},
   "source": [
    "\n",
    "## 3) Dataset dari mana?\n",
    "- **Synthetic dataset** (dibuat sendiri) karena data asli umumnya privat.\n",
    "- Ukuran ± **5.000 baris** agar cukup untuk latihan tetapi tetap ringan.\n"
   ]
  },
  {
   "cell_type": "markdown",
   "id": "b15a79bb",
   "metadata": {},
   "source": [
    "### Import & Setup"
   ]
  },
  {
   "cell_type": "code",
   "execution_count": null,
   "id": "b1b8ed0c",
   "metadata": {},
   "outputs": [],
   "source": [
    "\n",
    "# Jika environment bersih, install paket (opsional):\n",
    "# !pip install numpy pandas scikit-learn matplotlib seaborn\n",
    "\n",
    "import numpy as np\n",
    "import pandas as pd\n",
    "import matplotlib.pyplot as plt\n",
    "import seaborn as sns\n",
    "\n",
    "from pathlib import Path\n",
    "from sklearn.model_selection import train_test_split, StratifiedKFold, cross_val_score\n",
    "from sklearn.naive_bayes import GaussianNB\n",
    "from sklearn.metrics import (accuracy_score, precision_score, recall_score,\n",
    "                             f1_score, classification_report, confusion_matrix,\n",
    "                             RocCurveDisplay, roc_auc_score)\n",
    "\n",
    "DATA_DIR = Path(\"data\"); DATA_DIR.mkdir(exist_ok=True, parents=True)\n",
    "OUT_DIR = Path(\"outputs_basic\"); OUT_DIR.mkdir(exist_ok=True, parents=True)\n",
    "\n",
    "RANDOM_STATE = 42\n",
    "np.random.seed(RANDOM_STATE)\n"
   ]
  },
  {
   "cell_type": "markdown",
   "id": "bd73acc7",
   "metadata": {},
   "source": [
    "### Generate / Load Dataset"
   ]
  },
  {
   "cell_type": "code",
   "execution_count": null,
   "id": "a5ea3e8d",
   "metadata": {},
   "outputs": [],
   "source": [
    "\n",
    "csv_path = DATA_DIR / \"transactions.csv\"\n",
    "\n",
    "def generate_synthetic(n_rows=5000, fraud_ratio=0.08, random_state=RANDOM_STATE):\n",
    "    rng = np.random.default_rng(random_state)\n",
    "    amount = np.round(np.exp(rng.normal(3, 1.0, n_rows)) * 10, 2)\n",
    "    tx_freq = rng.poisson(lam=3, size=n_rows)\n",
    "    account_age = rng.integers(low=1, high=365*3, size=n_rows)\n",
    "    is_weekend = rng.integers(low=0, high=2, size=n_rows)\n",
    "\n",
    "    base = np.full(n_rows, fraud_ratio, dtype=float)\n",
    "    base += (amount > np.percentile(amount, 85)) * 0.06\n",
    "    base += (account_age < 30) * 0.05\n",
    "    base += (tx_freq > 6) * 0.04\n",
    "    base += (is_weekend == 1) * 0.02\n",
    "    base = np.clip(base, 0.01, 0.85)\n",
    "\n",
    "    is_fraud = rng.binomial(1, base)\n",
    "\n",
    "    return pd.DataFrame({\n",
    "        \"amount\": amount,\n",
    "        \"transaction_freq_24h\": tx_freq,\n",
    "        \"account_age_days\": account_age,\n",
    "        \"is_weekend\": is_weekend,\n",
    "        \"is_fraud\": is_fraud\n",
    "    })\n",
    "\n",
    "if csv_path.exists():\n",
    "    df = pd.read_csv(csv_path)\n",
    "    print(\"Loaded:\", csv_path)\n",
    "else:\n",
    "    df = generate_synthetic()\n",
    "    df.to_csv(csv_path, index=False)\n",
    "    print(\"Generated synthetic & saved to:\", csv_path)\n",
    "\n",
    "df.head()\n"
   ]
  },
  {
   "cell_type": "markdown",
   "id": "4f8916b0",
   "metadata": {},
   "source": [
    "\n",
    "## 4) Variabel pada dataset\n",
    "- `amount` — jumlah transaksi\n",
    "- `transaction_freq_24h` — frekuensi transaksi 24 jam\n",
    "- `account_age_days` — umur akun (hari)\n",
    "- `is_weekend` — 0/1 apakah weekend\n",
    "- `is_fraud` — label target (0 normal, 1 fraud)\n"
   ]
  },
  {
   "cell_type": "markdown",
   "id": "e5570b34",
   "metadata": {},
   "source": [
    "## 5) EDA (Exploratory Data Analysis)"
   ]
  },
  {
   "cell_type": "code",
   "execution_count": null,
   "id": "5c65b1f0",
   "metadata": {},
   "outputs": [],
   "source": [
    "\n",
    "print(\"Shape:\", df.shape)\n",
    "print(\"\\nClass balance (ratio):\")\n",
    "print(df['is_fraud'].value_counts(normalize=True).rename('ratio'))\n",
    "\n",
    "display(df.describe())\n",
    "\n",
    "fig, axes = plt.subplots(1, 2, figsize=(10,4))\n",
    "sns.histplot(df['amount'], ax=axes[0])\n",
    "axes[0].set_title('Distribusi Amount')\n",
    "sns.countplot(x='is_fraud', data=df, ax=axes[1])\n",
    "axes[1].set_title('Class Count (0=Normal, 1=Fraud)')\n",
    "plt.tight_layout(); plt.show()\n"
   ]
  },
  {
   "cell_type": "markdown",
   "id": "7cadc56d",
   "metadata": {},
   "source": [
    "## 6) Split training/testing"
   ]
  },
  {
   "cell_type": "code",
   "execution_count": null,
   "id": "521435fd",
   "metadata": {},
   "outputs": [],
   "source": [
    "\n",
    "X = df.drop(columns=['is_fraud'])\n",
    "y = df['is_fraud']\n",
    "\n",
    "X_train, X_test, y_train, y_test = train_test_split(\n",
    "    X, y, test_size=0.2, random_state=RANDOM_STATE, stratify=y\n",
    ")\n",
    "print(\"Train:\", X_train.shape, \" | Test:\", X_test.shape)\n"
   ]
  },
  {
   "cell_type": "markdown",
   "id": "b60e1594",
   "metadata": {},
   "source": [
    "## 7) Training — Gaussian Naive Bayes"
   ]
  },
  {
   "cell_type": "code",
   "execution_count": null,
   "id": "03d82822",
   "metadata": {},
   "outputs": [],
   "source": [
    "\n",
    "gnb = GaussianNB().fit(X_train, y_train)\n",
    "y_pred = gnb.predict(X_test)\n",
    "y_prob = gnb.predict_proba(X_test)[:,1]\n",
    "print(\"Model trained.\")\n"
   ]
  },
  {
   "cell_type": "markdown",
   "id": "3cc5e806",
   "metadata": {},
   "source": [
    "## 8) Hasil & Evaluasi"
   ]
  },
  {
   "cell_type": "code",
   "execution_count": null,
   "id": "b71891c1",
   "metadata": {},
   "outputs": [],
   "source": [
    "\n",
    "acc  = accuracy_score(y_test, y_pred)\n",
    "prec = precision_score(y_test, y_pred, zero_division=0)\n",
    "rec  = recall_score(y_test, y_pred, zero_division=0)\n",
    "f1   = f1_score(y_test, y_pred, zero_division=0)\n",
    "auc  = roc_auc_score(y_test, y_prob)\n",
    "\n",
    "print(f\"Accuracy : {acc:.4f}\")\n",
    "print(f\"Precision: {prec:.4f}\")\n",
    "print(f\"Recall   : {rec:.4f}\")\n",
    "print(f\"F1-score : {f1:.4f}\")\n",
    "print(f\"ROC-AUC  : {auc:.4f}\\n\")\n",
    "print(classification_report(y_test, y_pred, digits=4))\n",
    "\n",
    "# Confusion Matrix\n",
    "cm = confusion_matrix(y_test, y_pred)\n",
    "fig, ax = plt.subplots(figsize=(4,4))\n",
    "sns.heatmap(cm, annot=True, fmt='d', cbar=False, ax=ax)\n",
    "ax.set_title('Confusion Matrix — GaussianNB')\n",
    "ax.set_xlabel('Predicted'); ax.set_ylabel('True')\n",
    "plt.tight_layout(); plt.show()\n",
    "\n",
    "# ROC Curve\n",
    "fig, ax = plt.subplots(figsize=(5,4))\n",
    "RocCurveDisplay.from_predictions(y_test, y_prob, ax=ax)\n",
    "ax.set_title('ROC Curve — GaussianNB')\n",
    "plt.tight_layout(); plt.show()\n"
   ]
  },
  {
   "cell_type": "markdown",
   "id": "61fa36b9",
   "metadata": {},
   "source": [
    "\n",
    "## 9) Catatan & Next Step\n",
    "- Akurasi bisa tinggi karena kelas **tidak seimbang** → fokus tingkatkan **recall** fraud.\n",
    "- Coba balancing (SMOTE/undersampling), threshold tuning, atau model lain (LogReg, RF).\n"
   ]
  }
 ],
 "metadata": {
  "language_info": {
   "name": "python"
  }
 },
 "nbformat": 4,
 "nbformat_minor": 5
}
